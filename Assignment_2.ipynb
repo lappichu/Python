{
 "cells": [
  {
   "cell_type": "markdown",
   "metadata": {},
   "source": [
    "<h3>Q no 1:  Write a python program to find number of occurrences of given number in a list with out using built-in methods</h3>\n",
    "<h4>**1 generate a list of some random num which is repeated again and again</h4>\n",
    "<h4>**2 take user input any number</h4>\n",
    "<h4>**3 find the number of occurrences of that num in your list</h4>\n",
    "<h4>**4 print some message to user with that result</h4>"
   ]
  },
  {
   "cell_type": "code",
   "execution_count": 18,
   "metadata": {},
   "outputs": [
    {
     "name": "stdout",
     "output_type": "stream",
     "text": [
      "Enter a number between 0-9 \n",
      "3\n"
     ]
    }
   ],
   "source": [
    "ran_num = (2,3,4,5,3,2,1,3,4,3,5,6,0,6,7,9,6,9,1,1)\n",
    "user_input=eval(input(\"Enter a number between 0-9 \\n\"))"
   ]
  },
  {
   "cell_type": "code",
   "execution_count": 28,
   "metadata": {},
   "outputs": [
    {
     "name": "stdout",
     "output_type": "stream",
     "text": [
      "Number of Occurences are {} of {} 4 3\n"
     ]
    }
   ],
   "source": [
    "occ = 0\n",
    "for num in ran_num:\n",
    "    if num == user_input:\n",
    "        occ +=1\n",
    "\n",
    "print(\"Number of Occurences are {} of {}\",occ,user_input)"
   ]
  },
  {
   "cell_type": "markdown",
   "metadata": {},
   "source": [
    "<h3>Q no 2:   [\"www.zframez.com\", \"www.wikipedia.org\", \"www.asp.net\", \"www.abcd.in\"]\n",
    "<br/><br/><br/><br/><br/>\n",
    "Write a python program to print website suffixes (com , org , net ,in) from this list\n",
    "</h3>"
   ]
  },
  {
   "cell_type": "code",
   "execution_count": 35,
   "metadata": {},
   "outputs": [
    {
     "name": "stdout",
     "output_type": "stream",
     "text": [
      "com\n",
      "org\n",
      "net\n",
      "in\n"
     ]
    }
   ],
   "source": [
    "websites = [\"www.zframez.com\", \"www.wikipedia.org\", \"www.asp.net\", \"www.abcd.in\"]\n",
    "\n",
    "for web in websites:\n",
    "    suffix = web.split(\".\")\n",
    "    print(suffix[2])"
   ]
  },
  {
   "cell_type": "markdown",
   "metadata": {},
   "source": [
    "<h3> Q no 3 : Write a program which can compute the factorial of a given numbers.</h3>\n",
    "<br/>\n",
    "<br/>\n",
    "<h4>**1 first take user input any number</h4>\n",
    "<h4>**2 calculate factorial of that input and then print the result to user</h4>"
   ]
  },
  {
   "cell_type": "code",
   "execution_count": 42,
   "metadata": {},
   "outputs": [
    {
     "name": "stdout",
     "output_type": "stream",
     "text": [
      "Enter a number5\n"
     ]
    }
   ],
   "source": [
    "fac_input=int(input(\"Enter a number\"))\n",
    "fact = 1"
   ]
  },
  {
   "cell_type": "code",
   "execution_count": 43,
   "metadata": {},
   "outputs": [
    {
     "name": "stdout",
     "output_type": "stream",
     "text": [
      "120\n"
     ]
    }
   ],
   "source": [
    "for loo in range(1,fac_input + 1):\n",
    "    fact = fact * loo\n",
    "print(fact)"
   ]
  },
  {
   "cell_type": "code",
   "execution_count": null,
   "metadata": {},
   "outputs": [],
   "source": []
  },
  {
   "cell_type": "code",
   "execution_count": null,
   "metadata": {},
   "outputs": [],
   "source": []
  },
  {
   "cell_type": "markdown",
   "metadata": {},
   "source": [
    "<h3>Q 4 (a) :  If you could invite anyone, living or deceased, to dinner, who\n",
    "would you invite? Make a list that includes at least three people you’d like to\n",
    "invite to dinner. Then use your list to print a message to each person, inviting\n",
    "them to dinner.</h3>"
   ]
  },
  {
   "cell_type": "code",
   "execution_count": 90,
   "metadata": {},
   "outputs": [],
   "source": [
    "ma_guests = [\"Zeus\",\"husker\",\"Ursa\",\"Roshan\"]\n",
    "ma_message1 = \"Hello\"\n",
    "ma_message2 = \", Party at 9 PM.\""
   ]
  },
  {
   "cell_type": "code",
   "execution_count": 91,
   "metadata": {},
   "outputs": [
    {
     "name": "stdout",
     "output_type": "stream",
     "text": [
      "Hello Zeus, Party at 9 PM.\n",
      "Hello husker, Party at 9 PM.\n",
      "Hello Ursa, Party at 9 PM.\n",
      "Hello Roshan, Party at 9 PM.\n"
     ]
    }
   ],
   "source": [
    "for temp in ma_guests:\n",
    "    print(ma_message1 + \" \" + temp + ma_message2)"
   ]
  },
  {
   "cell_type": "code",
   "execution_count": null,
   "metadata": {},
   "outputs": [],
   "source": []
  },
  {
   "cell_type": "markdown",
   "metadata": {},
   "source": [
    "<h3>Q 4 (b) : You just heard that one of your guests can’t make the\n",
    "dinner, so you need to send out a new set of invitations. You’ll have to think of\n",
    "someone else to invite.<br/></br><br/>\n",
    "•\t Start with your program from Q 4 (a). Add a print statement at the\n",
    "end of your program stating the name of the guest who can’t make it.<br/></br><br/>\n",
    "•\t Modify your list, replacing the name of the guest who can’t make it with\n",
    "the name of the new person you are inviting.<br/></br><br/>\n",
    "•\t Print a second set of invitation messages, one for each person who is still\n",
    "in your list.<br/></br><br/></h3>"
   ]
  },
  {
   "cell_type": "code",
   "execution_count": 92,
   "metadata": {},
   "outputs": [
    {
     "name": "stdout",
     "output_type": "stream",
     "text": [
      "Damn, Roshan is not coming. So, Juggernaut coming\n",
      "Hello Zeus, Party at 9 PM.\n",
      "Hello husker, Party at 9 PM.\n",
      "Hello Ursa, Party at 9 PM.\n",
      "Hello Juggernaut, Party at 9 PM.\n"
     ]
    }
   ],
   "source": [
    "print(\"Damn, Roshan is not coming. So, Juggernaut coming\")\n",
    "\n",
    "ma_guests[3] = \"Juggernaut\"\n",
    "\n",
    "for temp in ma_guests:\n",
    "    print(ma_message1 + \" \" + temp + ma_message2)"
   ]
  },
  {
   "cell_type": "code",
   "execution_count": null,
   "metadata": {},
   "outputs": [],
   "source": []
  },
  {
   "cell_type": "code",
   "execution_count": null,
   "metadata": {},
   "outputs": [],
   "source": []
  },
  {
   "cell_type": "markdown",
   "metadata": {},
   "source": [
    "<h3>Q 4 (c) : You just found a bigger dinner table, so now more space is\n",
    "available. Think of three more guests to invite to dinner.<br/></br><br/>\n",
    "•\t Start with your program from Q 4 (a) and (b) Add a print\n",
    "statement to the end of your program informing people that you found a\n",
    "bigger dinner table.<br/></br><br/>\n",
    "•\t Use insert() to add one new guest to the beginning of your list.<br/></br><br/>\n",
    "•\t Use insert() to add one new guest to the middle of your list.<br/></br><br/>\n",
    "•\t Use append() to add one new guest to the end of your list.<br/></br><br/>\n",
    "•\t Print a new set of invitation messages, one for each person in your list.<br/></br><br/></h3>"
   ]
  },
  {
   "cell_type": "code",
   "execution_count": 99,
   "metadata": {},
   "outputs": [
    {
     "name": "stdout",
     "output_type": "stream",
     "text": [
      "Hello Zeus, Party at 9 PM.\n",
      "Hello husker, Party at 9 PM.\n",
      "Hello Ursa, Party at 9 PM.\n",
      "Hello Roshan, Party at 9 PM.\n",
      "Damn, Roshan is not coming. So, Juggernaut coming\n",
      "\n",
      "\n",
      "Hello Zeus, Party at 9 PM.\n",
      "Hello husker, Party at 9 PM.\n",
      "Hello Ursa, Party at 9 PM.\n",
      "Hello Juggernaut, Party at 9 PM.\n",
      "\n",
      " Now Party more till 4 AM.\n",
      "\n",
      "Hello Pugna, Party at 9 PM.\n",
      "Hello Zeus, Party at 9 PM.\n",
      "Hello Clockwerk, Party at 9 PM.\n",
      "Hello husker, Party at 9 PM.\n",
      "Hello Ursa, Party at 9 PM.\n",
      "Hello Juggernaut, Party at 9 PM.\n",
      "Hello Riki, Party at 9 PM.\n"
     ]
    }
   ],
   "source": [
    "ma_guests = [\"Zeus\",\"husker\",\"Ursa\",\"Roshan\"]\n",
    "ma_message1 = \"Hello\"\n",
    "ma_message2 = \", Party at 9 PM.\"\n",
    "\n",
    "for temp in ma_guests:\n",
    "    print(ma_message1 + \" \" + temp + ma_message2 + \"\")\n",
    " \n",
    "print(\"Damn, Roshan is not coming. So, Juggernaut coming\\n\\n\")\n",
    "\n",
    "ma_guests[3] = \"Juggernaut\"\n",
    "\n",
    "for temp in ma_guests:\n",
    "    print(ma_message1 + \" \" + temp + ma_message2)\n",
    "\n",
    "\n",
    "print(\"\\n Now Party more till 4 AM.\\n\")\n",
    "\n",
    "ma_guests.insert(0,'Pugna')\n",
    "ma_guests.insert(2,'Clockwerk')\n",
    "ma_guests.append('Riki')\n",
    "for temp in ma_guests:\n",
    "    print(ma_message1 + \" \" + temp + ma_message2)\n",
    "\n"
   ]
  },
  {
   "cell_type": "code",
   "execution_count": null,
   "metadata": {},
   "outputs": [],
   "source": []
  },
  {
   "cell_type": "code",
   "execution_count": null,
   "metadata": {},
   "outputs": [],
   "source": []
  },
  {
   "cell_type": "markdown",
   "metadata": {},
   "source": [
    "<h5> Q 5 : Here you have some data in variable below, your task is to make a list of specific word Surah then print the list and length of list</h5>\n"
   ]
  },
  {
   "cell_type": "code",
   "execution_count": 100,
   "metadata": {},
   "outputs": [],
   "source": [
    "data = \"Surah I Who believe in the Unseen, Surah Are steadfast in prayer, And spend Surah out of what We Have provided for them;\"\n"
   ]
  },
  {
   "cell_type": "code",
   "execution_count": 102,
   "metadata": {},
   "outputs": [
    {
     "name": "stdout",
     "output_type": "stream",
     "text": [
      "['Surah', 'Surah', 'Surah']\n",
      "3\n"
     ]
    }
   ],
   "source": [
    "count = []\n",
    "\n",
    "for temp in data.split():\n",
    "    if temp == 'Surah':\n",
    "        count.append(temp)\n",
    "\n",
    "print(count)\n",
    "print(len(count))"
   ]
  }
 ],
 "metadata": {
  "kernelspec": {
   "display_name": "Python 3",
   "language": "python",
   "name": "python3"
  },
  "language_info": {
   "codemirror_mode": {
    "name": "ipython",
    "version": 3
   },
   "file_extension": ".py",
   "mimetype": "text/x-python",
   "name": "python",
   "nbconvert_exporter": "python",
   "pygments_lexer": "ipython3",
   "version": "3.6.5"
  }
 },
 "nbformat": 4,
 "nbformat_minor": 2
}
